{
 "cells": [
  {
   "cell_type": "code",
   "execution_count": 5,
   "metadata": {},
   "outputs": [
    {
     "ename": "AttributeError",
     "evalue": "'NoneType' object has no attribute 'group'",
     "output_type": "error",
     "traceback": [
      "\u001b[0;31m---------------------------------------------------------------------------\u001b[0m",
      "\u001b[0;31mAttributeError\u001b[0m                            Traceback (most recent call last)",
      "Cell \u001b[0;32mIn[5], line 45\u001b[0m\n\u001b[1;32m     42\u001b[0m file_path \u001b[38;5;241m=\u001b[39m os\u001b[38;5;241m.\u001b[39mgetcwd() \u001b[38;5;241m+\u001b[39m \u001b[38;5;124m\"\u001b[39m\u001b[38;5;124m/work/web pages to scrape/Normattiva - Export Codice Penale.html\u001b[39m\u001b[38;5;124m\"\u001b[39m\n\u001b[1;32m     44\u001b[0m html \u001b[38;5;241m=\u001b[39m read_html_file(file_path)\n\u001b[0;32m---> 45\u001b[0m law_name, articles \u001b[38;5;241m=\u001b[39m \u001b[43mextract_information\u001b[49m\u001b[43m(\u001b[49m\u001b[43mhtml\u001b[49m\u001b[43m)\u001b[49m\n\u001b[1;32m     47\u001b[0m \u001b[38;5;28mprint\u001b[39m(\u001b[38;5;124mf\u001b[39m\u001b[38;5;124m\"\u001b[39m\u001b[38;5;124mLaw name: \u001b[39m\u001b[38;5;132;01m{\u001b[39;00mlaw_name\u001b[38;5;132;01m}\u001b[39;00m\u001b[38;5;124m\"\u001b[39m)\n\u001b[1;32m     48\u001b[0m \u001b[38;5;28;01mfor\u001b[39;00m art \u001b[38;5;129;01min\u001b[39;00m articles:\n",
      "Cell \u001b[0;32mIn[5], line 34\u001b[0m, in \u001b[0;36mextract_information\u001b[0;34m(html)\u001b[0m\n\u001b[1;32m     32\u001b[0m text \u001b[38;5;241m=\u001b[39m article\u001b[38;5;241m.\u001b[39mfind(\u001b[38;5;124m'\u001b[39m\u001b[38;5;124mspan\u001b[39m\u001b[38;5;124m'\u001b[39m, class_\u001b[38;5;241m=\u001b[39m\u001b[38;5;124m'\u001b[39m\u001b[38;5;124mart-just-text-akn\u001b[39m\u001b[38;5;124m'\u001b[39m)\n\u001b[1;32m     33\u001b[0m \u001b[38;5;28;01mif\u001b[39;00m text \u001b[38;5;129;01mis\u001b[39;00m \u001b[38;5;28;01mNone\u001b[39;00m:\n\u001b[0;32m---> 34\u001b[0m     article_data[\u001b[38;5;124m'\u001b[39m\u001b[38;5;124mtext\u001b[39m\u001b[38;5;124m'\u001b[39m] \u001b[38;5;241m=\u001b[39m \u001b[43marticle_content_pattern\u001b[49m\u001b[38;5;241;43m.\u001b[39;49m\u001b[43msearch\u001b[49m\u001b[43m(\u001b[49m\u001b[43marticle\u001b[49m\u001b[38;5;241;43m.\u001b[39;49m\u001b[43mget_text\u001b[49m\u001b[43m(\u001b[49m\u001b[43m)\u001b[49m\u001b[43m)\u001b[49m\u001b[38;5;241;43m.\u001b[39;49m\u001b[43mgroup\u001b[49m(\u001b[38;5;241m1\u001b[39m)\n\u001b[1;32m     35\u001b[0m \u001b[38;5;28;01melse\u001b[39;00m:\n\u001b[1;32m     36\u001b[0m     article_data[\u001b[38;5;124m'\u001b[39m\u001b[38;5;124mtext\u001b[39m\u001b[38;5;124m'\u001b[39m] \u001b[38;5;241m=\u001b[39m text\u001b[38;5;241m.\u001b[39mget_text(strip\u001b[38;5;241m=\u001b[39m\u001b[38;5;28;01mTrue\u001b[39;00m)\n",
      "\u001b[0;31mAttributeError\u001b[0m: 'NoneType' object has no attribute 'group'"
     ]
    }
   ],
   "source": [
    "from bs4 import BeautifulSoup\n",
    "import os\n",
    "import re\n",
    "\n",
    "# Read the HTML file\n",
    "def read_html_file(file_path):\n",
    "    with open(file_path, 'r', encoding='utf-8') as file:\n",
    "        return file.read()\n",
    "\n",
    "# Extract the information from the HTML\n",
    "def extract_information(html):\n",
    "    soup = BeautifulSoup(html, 'html.parser')\n",
    "\n",
    "    law_name = soup.find('p', class_='SottoTitoloExp').get_text(strip=True)\n",
    "\n",
    "    # Regex pattern to extract the article number and text if needed\n",
    "    article_number_pattern = re.compile(r'Art\\.\\s+(\\d+)\\.')\n",
    "    article_content_pattern = re.compile(r'Art\\.\\s+\\d+\\.\\s*(.*?)<br>\\s*(?:<br>|$)', re.DOTALL)\n",
    "    \n",
    "    articles = []\n",
    "    for article in soup.find_all('div', class_='bodyTesto'):\n",
    "        article_data = {}\n",
    "        \n",
    "        # Get the article number\n",
    "        number = article.find('h2', class_='article-num-akn')\n",
    "        if number is None:\n",
    "            print(article.get_text())\n",
    "            article_data['number'] = article_number_pattern.search(article.get_text()).group(0)\n",
    "        else:\n",
    "            article_data['number'] = number.get_text(strip=True)\n",
    "        \n",
    "        # Get the article text\n",
    "        text = article.find('span', class_='art-just-text-akn')\n",
    "        if text is None:\n",
    "            article_data['text'] = article_content_pattern.search(article.get_text()).group(1).strip()\n",
    "        else:\n",
    "            article_data['text'] = text.get_text(strip=True)\n",
    "            \n",
    "        articles.append(article_data)\n",
    "\n",
    "    return law_name, articles\n",
    "\n",
    "file_path = os.getcwd() + \"/work/web pages to scrape/Normattiva - Export Codice Penale.html\"\n",
    "\n",
    "html = read_html_file(file_path)\n",
    "law_name, articles = extract_information(html)\n",
    "\n",
    "print(f\"Law name: {law_name}\")\n",
    "for art in articles:\n",
    "    print(f\"\\n{art['number']}\")\n",
    "    print(art['text'])\n"
   ]
  }
 ],
 "metadata": {
  "kernelspec": {
   "display_name": "thesis",
   "language": "python",
   "name": "thesis"
  },
  "language_info": {
   "codemirror_mode": {
    "name": "ipython",
    "version": 3
   },
   "file_extension": ".py",
   "mimetype": "text/x-python",
   "name": "python",
   "nbconvert_exporter": "python",
   "pygments_lexer": "ipython3",
   "version": "3.12.3"
  }
 },
 "nbformat": 4,
 "nbformat_minor": 2
}
