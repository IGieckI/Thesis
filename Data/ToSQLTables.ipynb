{
 "cells": [
  {
   "cell_type": "code",
   "execution_count": null,
   "metadata": {},
   "outputs": [],
   "source": [
    "import os\n",
    "import sqlite3\n",
    "import pandas as pd\n",
    "\n",
    "isLinux = False\n",
    "default_linux_path = os.getcwd() + \"/work/\"\n",
    "default_windows_path = os.getcwd().replace(\"\\\\Data\", \"\\\\Documents\\\\Downloaded\\\\\")\n",
    "default_path = default_linux_path if isLinux else default_windows_path\n",
    "DEFAULT_SAVE_DIR = default_path.replace(\"\\\\Downloaded\", \"\\\\Generated\")"
   ]
  },
  {
   "cell_type": "markdown",
   "metadata": {},
   "source": [
    "### Read dataframe's CSVs"
   ]
  },
  {
   "cell_type": "code",
   "execution_count": null,
   "metadata": {},
   "outputs": [],
   "source": [
    "# read dataframes from CSV\n",
    "df_references = pd.read_csv(DEFAULT_SAVE_DIR + '\\\\references_merged.csv') # Source Comma Reference Questionid\n",
    "df_quiz = pd.read_csv(DEFAULT_SAVE_DIR + '\\\\quiz_merged.csv') # Index Question Answer1 Answer2 Answer3\n",
    "df_laws = pd.read_csv(DEFAULT_SAVE_DIR + '\\\\laws.csv') # Origin Law Article\tComma Content"
   ]
  },
  {
   "cell_type": "markdown",
   "metadata": {},
   "source": [
    "### Create the database and the tables from dataframes"
   ]
  },
  {
   "cell_type": "code",
   "execution_count": null,
   "metadata": {},
   "outputs": [],
   "source": [
    "config = {\n",
    "  'user': 'root',\n",
    "  'password': '',\n",
    "  'host': 'localhost:3306',\n",
    "}\n",
    "\n",
    "conn = sqlite3.connect(**config)\n",
    "cursor = conn.cursor()\n",
    "\n",
    "def database_exists(cursor, database_name):\n",
    "    cursor.execute(\"SHOW DATABASES;\")\n",
    "    return any(database_name in row for row in cursor)\n",
    "\n",
    "if not database_exists(cursor, 'antinomic'):\n",
    "    cursor.execute(\"CREATE DATABASE antinomic;\")\n",
    "    conn.commit()\n",
    "    \n",
    "    # create tables\n",
    "    cursor.execute('''\n",
    "    CREATE TABLE references (\n",
    "        source TEXT,\n",
    "        comma TEXT,\n",
    "        reference TEXT,\n",
    "        question_id INTEGER,\n",
    "        FOREIGN KEY (question_id) REFERENCES quiz(question_id)\n",
    "        );\n",
    "    ''')\n",
    "    \n",
    "    cursor.execute('''\n",
    "    CREATE TABLE quiz (\n",
    "        question_id INTEGER PRIMARY KEY,\n",
    "        question TEXT,\n",
    "        answer1 TEXT,\n",
    "        answer2 TEXT,\n",
    "        answer3 TEXT);\n",
    "        );\n",
    "    ''')\n",
    "    \n",
    "    cursor.execute('''\n",
    "    CREATE TABLE laws (\n",
    "        CREATE TABLE laws (\n",
    "            origin TEXT,\n",
    "            law TEXT,\n",
    "            article TEXT,\n",
    "            comma TEXT,\n",
    "            content TEXT,\n",
    "        );\n",
    "    ''')\n",
    "    \n",
    "    # insert data from dataframes\n",
    "    df_references.to_sql('references', conn, if_exists='replace', index=False)\n",
    "    df_quiz.to_sql('quiz', conn, if_exists='replace', index=False)\n",
    "    df_laws.to_sql('laws', conn, if_exists='replace', index=False)\n",
    "    \n",
    "\n",
    "cursor.close()\n",
    "conn.close()"
   ]
  }
 ],
 "metadata": {
  "kernelspec": {
   "display_name": "Python 3",
   "language": "python",
   "name": "python3"
  },
  "language_info": {
   "name": "python",
   "version": "3.12.4"
  }
 },
 "nbformat": 4,
 "nbformat_minor": 2
}
