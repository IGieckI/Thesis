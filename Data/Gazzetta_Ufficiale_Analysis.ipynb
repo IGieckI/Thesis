{
 "cells": [
  {
   "cell_type": "code",
   "execution_count": null,
   "metadata": {},
   "outputs": [],
   "source": [
    "import pandas as pd\n",
    "from datasets import load_dataset\n",
    "import matplotlib.pyplot as plt"
   ]
  },
  {
   "cell_type": "code",
   "execution_count": null,
   "metadata": {},
   "outputs": [],
   "source": [
    "# Download the dataset from Hugging Face\n",
    "dataset = load_dataset('mii-llm/gazzetta-ufficiale')\n",
    "\n",
    "# Convert the dataset to a pandas DataFrame\n",
    "print(dataset)\n",
    "df = pd.DataFrame(dataset['train'])"
   ]
  },
  {
   "cell_type": "code",
   "execution_count": null,
   "metadata": {},
   "outputs": [],
   "source": [
    "# Example: Plot a histogram of a numerical column\n",
    "plt.hist(df['column_name'])\n",
    "plt.xlabel('Value')\n",
    "plt.ylabel('Frequency')\n",
    "plt.title('Histogram of column_name')\n",
    "plt.show()\n",
    "\n",
    "# Example: Plot a bar chart of a categorical column\n",
    "plt.bar(df['column_name'].value_counts().index, df['column_name'].value_counts().values)\n",
    "plt.xlabel('Category')\n",
    "plt.ylabel('Count')\n",
    "plt.title('Bar Chart of column_name')\n",
    "plt.show()\n",
    "\n",
    "# Example: Plot a scatter plot of two numerical columns\n",
    "plt.scatter(df['column_name1'], df['column_name2'])\n",
    "plt.xlabel('Column 1')\n",
    "plt.ylabel('Column 2')\n",
    "plt.title('Scatter Plot of column_name1 vs column_name2')\n",
    "plt.show()\n",
    "\n",
    "# Example: Plot a line chart of a numerical column over time\n",
    "plt.plot(df['date_column'], df['column_name'])\n",
    "plt.xlabel('Date')\n",
    "plt.ylabel('Value')\n",
    "plt.title('Line Chart of column_name over time')\n",
    "plt.show()"
   ]
  }
 ],
 "metadata": {
  "language_info": {
   "name": "python"
  }
 },
 "nbformat": 4,
 "nbformat_minor": 2
}
