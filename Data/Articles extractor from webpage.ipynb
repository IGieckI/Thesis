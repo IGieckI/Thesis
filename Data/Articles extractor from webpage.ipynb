{
 "cells": [
  {
   "cell_type": "markdown",
   "metadata": {},
   "source": [
    "## Extracting Codice Penale using BeautifulSoup (Failed)"
   ]
  },
  {
   "cell_type": "code",
   "execution_count": 31,
   "metadata": {},
   "outputs": [
    {
     "name": "stdout",
     "output_type": "stream",
     "text": [
      "\n",
      "(Elemento psicologico del reato) Il delitto:\n",
      "\n",
      "    Art. number                                               Text\n",
      "0             2  (Successione di leggi penali) Nessuno può esse...\n",
      "1             3  (Obbligatorietà della legge penale) La legge p...\n",
      "2             4  (Cittadino italiano. Territorio dello Stato) A...\n",
      "3             5  (Ignoranza della legge penale) Nessuno può inv...\n",
      "4             6  (Reati commessi nel territorio dello Stato) Ch...\n",
      "..          ...                                                ...\n",
      "578         725  (Commercio di scritti, disegni o altri oggetti...\n",
      "579         726  (Atti contrari alla pubblica decenza. Turpiloq...\n",
      "580         728  (Trattamento idoneo a sopprimere la coscienza ...\n",
      "581         733  (Danneggiamento al patrimonio archeologico, st...\n",
      "582         734  (Distruzione o deturpamento di bellezze natura...\n",
      "\n",
      "[583 rows x 2 columns]\n"
     ]
    }
   ],
   "source": [
    "import pandas as pd\n",
    "import regex as re\n",
    "from bs4 import BeautifulSoup\n",
    "import os\n",
    "\n",
    "def extract_articles_from_html(html_content):\n",
    "    # Define regex patterns to extract article numbers and texts\n",
    "    article_pattern = re.compile(r'<div style=\"text-align:center;\">\\s*Art\\.\\s*(\\d+)\\.\\s*<br>\\s*<br>\\s*\\((.*?)\\)\\s*</div>.*?<br>\\s*<br>\\s*(.*?)\\s*<br>', re.DOTALL)\n",
    "    \n",
    "    # Find all matches in the HTML content\n",
    "    matches = article_pattern.findall(html_content)\n",
    "    \n",
    "    # Initialize lists to store the article numbers and texts\n",
    "    article_numbers = []\n",
    "    article_texts = []\n",
    "    \n",
    "    for match in matches:\n",
    "        article_number = match[0]\n",
    "        article_title = match[1]\n",
    "        article_text = match[2].strip()\n",
    "        \n",
    "        # Combine title and text if you want to keep the title in the text\n",
    "        full_text = f'({article_title}) {article_text}'\n",
    "        \n",
    "        # Append the extracted information to the lists\n",
    "        article_numbers.append(article_number)\n",
    "        if article_number == '43':  \n",
    "            print(f\"\\n{full_text}\\n\")\n",
    "        article_texts.append(re.sub(r'<.+?>', '', full_text))\n",
    "    \n",
    "    \n",
    "    # Create a DataFrame from the extracted data\n",
    "    df = pd.DataFrame({\n",
    "        'Art. number': article_numbers,\n",
    "        'Text': article_texts\n",
    "    })\n",
    "    \n",
    "    return df\n",
    "\n",
    "\n",
    "\n",
    "# Read the HTML content from the file\n",
    "file_path = os.getcwd() + \"/work/web pages to scrape/Normattiva - Codice Penale.html\"\n",
    "with open(file_path, 'r', encoding='utf-8') as file:\n",
    "    html_content = file.read()\n",
    "\n",
    "# Extract articles and create a dataframe\n",
    "articles_df = extract_articles_from_html(html_content)\n",
    "srticle_df = articles_df.to_csv('articles.csv', index=False)\n",
    "\n",
    "# Display the dataframe\n",
    "print(articles_df)\n"
   ]
  },
  {
   "cell_type": "markdown",
   "metadata": {},
   "source": [
    "## Extract Codice Penale Amministrativo using Selenium"
   ]
  },
  {
   "cell_type": "code",
   "execution_count": 9,
   "metadata": {},
   "outputs": [
    {
     "ename": "TypeError",
     "evalue": "WebDriver.__init__() got an unexpected keyword argument 'executable_path'",
     "output_type": "error",
     "traceback": [
      "\u001b[1;31m---------------------------------------------------------------------------\u001b[0m",
      "\u001b[1;31mTypeError\u001b[0m                                 Traceback (most recent call last)",
      "Cell \u001b[1;32mIn[9], line 9\u001b[0m\n\u001b[0;32m      6\u001b[0m chrome_options \u001b[38;5;241m=\u001b[39m Options()\n\u001b[0;32m      8\u001b[0m \u001b[38;5;66;03m# You need to download chromedriver and give the location path\u001b[39;00m\n\u001b[1;32m----> 9\u001b[0m driver \u001b[38;5;241m=\u001b[39m \u001b[43mwebdriver\u001b[49m\u001b[38;5;241;43m.\u001b[39;49m\u001b[43mChrome\u001b[49m\u001b[43m(\u001b[49m\u001b[43mexecutable_path\u001b[49m\u001b[38;5;241;43m=\u001b[39;49m\u001b[38;5;124;43m'\u001b[39;49m\u001b[38;5;124;43mC:\u001b[39;49m\u001b[38;5;130;43;01m\\\\\u001b[39;49;00m\u001b[38;5;124;43mUsers\u001b[39;49m\u001b[38;5;130;43;01m\\\\\u001b[39;49;00m\u001b[38;5;124;43mgiaco\u001b[39;49m\u001b[38;5;130;43;01m\\\\\u001b[39;49;00m\u001b[38;5;124;43mDownloads\u001b[39;49m\u001b[38;5;130;43;01m\\\\\u001b[39;49;00m\u001b[38;5;124;43mchromedriver-win64\u001b[39;49m\u001b[38;5;130;43;01m\\\\\u001b[39;49;00m\u001b[38;5;124;43mchromedriver.exe\u001b[39;49m\u001b[38;5;124;43m'\u001b[39;49m\u001b[43m,\u001b[49m\u001b[43m \u001b[49m\u001b[43moptions\u001b[49m\u001b[38;5;241;43m=\u001b[39;49m\u001b[43mchrome_options\u001b[49m\u001b[43m)\u001b[49m\n\u001b[0;32m     11\u001b[0m \u001b[38;5;66;03m# URL of the webpage you want to access\u001b[39;00m\n\u001b[0;32m     12\u001b[0m driver\u001b[38;5;241m.\u001b[39mget(\u001b[38;5;124m'\u001b[39m\u001b[38;5;124mhttps://www.normattiva.it/uri-res/N2Ls?urn:nir:stato:decreto.del.presidente.della.repubblica:1988-09-22;447\u001b[39m\u001b[38;5;124m'\u001b[39m) \n",
      "\u001b[1;31mTypeError\u001b[0m: WebDriver.__init__() got an unexpected keyword argument 'executable_path'"
     ]
    }
   ],
   "source": [
    "from selenium import webdriver\n",
    "from selenium.webdriver.common.by import By\n",
    "from selenium.webdriver.chrome.options import Options\n",
    "\n",
    "# Set chrome options\n",
    "chrome_options = Options()\n",
    "\n",
    "# You need to download chromedriver and give the location path\n",
    "driver = webdriver.Chrome(executable_path='C:\\\\Users\\\\giaco\\\\Downloads\\\\chromedriver-win64\\\\chromedriver.exe', options=chrome_options)\n",
    "\n",
    "# URL of the webpage you want to access\n",
    "driver.get('https://www.normattiva.it/uri-res/N2Ls?urn:nir:stato:decreto.del.presidente.della.repubblica:1988-09-22;447') \n",
    "\"\"\"\n",
    "# Find a button by its ID and click it\n",
    "# Make sure to replace 'button-id' with the actual ID of the button on your webpage\n",
    "button = driver.find_element(By.ID, 'button-id')\n",
    "button.click()\n",
    "\n",
    "# Find a text input by its name, clear it and type into it\n",
    "# Make sure to replace 'input-name' with the actual name of the input field on your webpage\n",
    "text_input = driver.find_element(By.NAME, 'input-name')\n",
    "text_input.clear()\n",
    "text_input.send_keys('Some text')\n",
    "\n",
    "# Submit a form by clicking the submit button\n",
    "# Make sure the XPATH is correct or replace it with the actual XPATH of the submit button on your webpage\n",
    "submit_button = driver.find_element(By.XPATH, '//input[@type=\"submit\"]')\n",
    "submit_button.click()\n",
    "\"\"\"\n",
    "# don't forget to close the browser!\n",
    "driver.quit()\n"
   ]
  },
  {
   "cell_type": "code",
   "execution_count": 11,
   "metadata": {},
   "outputs": [
    {
     "name": "stdout",
     "output_type": "stream",
     "text": [
      "c:\\Users\\giaco\\source\\repos\\Thesis\\Data\n",
      "C:\\Users\\giaco\\Downloads\\chromedriver-win64\\chromedriver.exe\n",
      "Google\n"
     ]
    },
    {
     "ename": "AttributeError",
     "evalue": "'WebDriver' object has no attribute 'find_element_by_name'",
     "output_type": "error",
     "traceback": [
      "\u001b[1;31m---------------------------------------------------------------------------\u001b[0m",
      "\u001b[1;31mAttributeError\u001b[0m                            Traceback (most recent call last)",
      "Cell \u001b[1;32mIn[11], line 26\u001b[0m\n\u001b[0;32m     23\u001b[0m \u001b[38;5;28mprint\u001b[39m(driver\u001b[38;5;241m.\u001b[39mtitle)\n\u001b[0;32m     25\u001b[0m \u001b[38;5;66;03m# Find the element that's name attribute is q (the google search box)\u001b[39;00m\n\u001b[1;32m---> 26\u001b[0m input_element \u001b[38;5;241m=\u001b[39m \u001b[43mdriver\u001b[49m\u001b[38;5;241;43m.\u001b[39;49m\u001b[43mfind_element_by_name\u001b[49m(\u001b[38;5;124m\"\u001b[39m\u001b[38;5;124mq\u001b[39m\u001b[38;5;124m\"\u001b[39m)\n\u001b[0;32m     28\u001b[0m \u001b[38;5;66;03m# Type in the search\u001b[39;00m\n\u001b[0;32m     29\u001b[0m input_element\u001b[38;5;241m.\u001b[39msend_keys(\u001b[38;5;124m\"\u001b[39m\u001b[38;5;124mHello, Selenium!\u001b[39m\u001b[38;5;124m\"\u001b[39m)\n",
      "\u001b[1;31mAttributeError\u001b[0m: 'WebDriver' object has no attribute 'find_element_by_name'"
     ]
    }
   ],
   "source": [
    "import os\n",
    "from selenium import webdriver\n",
    "from selenium.webdriver.common.keys import Keys\n",
    "from selenium.webdriver.chrome.options import Options\n",
    "from selenium.webdriver.chrome.service import Service\n",
    "from selenium.webdriver.common.by import By\n",
    "\n",
    "print(os.getcwd())\n",
    "default_path = os.getcwd() + \"/work/\"\n",
    "CHROME_DRIVERS_PATH = default_path + \"chromedriver-linux64/chromedriver\"\n",
    "CHROME_DRIVERS_WINDOWS_PATH = \"C:\\\\Users\\\\giaco\\\\Downloads\\\\chromedriver-win64\\\\chromedriver.exe\"\n",
    "print(CHROME_DRIVERS_WINDOWS_PATH)\n",
    "\n",
    "chrome_options = Options()\n",
    "chrome_options.add_argument(\"--headless\")\n",
    "chrome_options.add_argument(\"--no-sandbox\")\n",
    "service = Service(CHROME_DRIVERS_WINDOWS_PATH)\n",
    "\n",
    "driver = webdriver.Chrome(service=service, options=chrome_options)\n",
    "\n",
    "driver.get(\"http://www.google.com\")\n",
    "\n",
    "print(driver.title)\n"
   ]
  }
 ],
 "metadata": {
  "kernelspec": {
   "display_name": "Python 3",
   "language": "python",
   "name": "python3"
  },
  "language_info": {
   "codemirror_mode": {
    "name": "ipython",
    "version": 3
   },
   "file_extension": ".py",
   "mimetype": "text/x-python",
   "name": "python",
   "nbconvert_exporter": "python",
   "pygments_lexer": "ipython3",
   "version": "undefined.undefined.undefined"
  }
 },
 "nbformat": 4,
 "nbformat_minor": 2
}
