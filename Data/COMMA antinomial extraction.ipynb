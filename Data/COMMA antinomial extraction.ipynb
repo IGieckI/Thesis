{
 "cells": [
  {
   "cell_type": "code",
   "execution_count": 1,
   "metadata": {},
   "outputs": [],
   "source": [
    "from transformers import AutoModelForCausalLM, AutoTokenizer, BitsAndBytesConfig\n",
    "from datasets import load_dataset\n",
    "import bitsandbytes\n",
    "from huggingface_hub import notebook_login\n",
    "import torch\n",
    "import numpy as np"
   ]
  },
  {
   "cell_type": "code",
   "execution_count": 2,
   "metadata": {},
   "outputs": [
    {
     "data": {
      "application/vnd.jupyter.widget-view+json": {
       "model_id": "9a3da38c99484e93bcec8c72181744d5",
       "version_major": 2,
       "version_minor": 0
      },
      "text/plain": [
       "VBox(children=(HTML(value='<center> <img\\nsrc=https://huggingface.co/front/assets/huggingface_logo-noborder.sv…"
      ]
     },
     "metadata": {},
     "output_type": "display_data"
    },
    {
     "data": {
      "text/plain": [
       "Dataset({\n",
       "    features: ['id', 'ruling_type', 'epigraph', 'body', 'decision', 'maxims_text', 'maxims_title', 'full_text', 'num_maxims', 'maxims_len', 'full_text_len', 'judgment_type', 'constitutional_parameters', 'maxims'],\n",
       "    num_rows: 1860\n",
       "})"
      ]
     },
     "execution_count": 2,
     "metadata": {},
     "output_type": "execute_result"
    }
   ],
   "source": [
    "notebook_login()\n",
    "\n",
    "comma = load_dataset(\"disi-unibo-nlp/COMMA\", \"it\")\n",
    "\n",
    "anto_ds = comma['train'].filter(lambda example : \"abrogat\" in example[\"full_text\"].lower() or \"antinom\" in example[\"full_text\"].lower())\n",
    "anto_ds"
   ]
  },
  {
   "cell_type": "code",
   "execution_count": 5,
   "metadata": {},
   "outputs": [],
   "source": [
    "models = {\n",
    "    #\"Saul\": {'model_name': 'Equall/Saul-7B-Instruct-v1', 'context_window': 1024, 'prompt_function': lambda system_prompt, user_prompt: f\"<|system|>\\n{system_prompt}\\n|<user>|\\n{user_prompt}\\n|<assistant>|\\n\\n\"}, #Modello addestrato su testi legali\n",
    "    #\"Llamantino\": {'model_name': 'swap-uniba/LLaMAntino-2-7b-hf-dolly-ITA', 'context_window': 8000, 'prompt_function': lambda system_prompt, user_prompt: f\"Di seguito è riportata un'istruzione che descrive un'attività, abbinata ad un input che fornisce ulteriore informazione.\\nScrivi una risposta che soddisfi adeguatamente la richiesta.\\n\\n### Istruzione:\\n{system_prompt}\\n\\n### Input:\\n{user_prompt}\\n\\n### Risposta:\\n\"}, # Doesn't work with transformers\n",
    "    \"Meta-Llama\": {'model_name': 'meta-llama/Meta-Llama-3-8B-Instruct', 'context_window': 8000, 'prompt_function': lambda system_prompt, user_prompt: f\"<|begin_of_text|><|start_header_id|>system<|end_header_id|>{system_prompt}<|eot_id|><|start_header_id|>user<|end_header_id|>{user_prompt}<|eot_id|><|start_header_id|>assistant<|end_header_id|>\"},\n",
    "    #\"Falcon-7B\": {'model_name': 'tiiuae/falcon-7b-instruct', 'context_window': 512, 'prompt_function': lambda system_prompt, user_prompt: f\"User: {user_prompt}\\nAssistant:{system_prompt}\"},\n",
    "    \"Mixtral-8x22B\": {'model_name': 'mistralai/Mixtral-8x22B-Instruct-v0.1', 'context_window': 1024, 'prompt_function': lambda system_prompt, user_prompt: f\"[INST] {system_prompt} {user_prompt}\\n[/INST]\"},\n",
    "    \"Mixtral-7B\": {'model_name': 'mistralai/Mistral-7B-Instruct-v0.2', 'context_window': 32000, 'prompt_function': lambda system_prompt, user_prompt: f\"[INST] {system_prompt} {user_prompt}\\n[/INST]\"},\n",
    "    #\"Minerva-3B\": {'model_name': 'sapienzanlp/Minerva-3B-base-v1.0', 'context_window': 512, 'prompt_function': lambda system_prompt, user_prompt: f\"{system_prompt} {user_prompt}\"}, # Modello italiano della Sapienza\n",
    "    #\"deepset/roberta-base-squad2\" : {'model_name': 'deepset/roberta-base-squad2', 'context_window': 512}, # Modello per il question answering\n",
    "    \"Phi-small\" : {'model_name': 'microsoft/Phi-3-small-4k-instruct', 'context_window': 8000, 'prompt_function': lambda system_prompt, user_prompt: f\"<|system|>\\n{system_prompt}\\n|<user>|\\n{user_prompt}\\n|<assistant>|\\n\\n\"},\n",
    "    \"Phi-medium\" : {'model_name': 'microsoft/Phi-3-medium-4k-instruct', 'context_window': 8000, 'prompt_function': lambda system_prompt, user_prompt: f\"<|system|>\\n{system_prompt}\\n|<user>|\\n{user_prompt}\\n|<assistant>|\\n\\n\"},\n",
    "    \"Phi-medium-quantized\" : {'model_name': 'kaitchup/Phi-3-medium-128k-instruct-awq-4bit', 'context_window': 8000, 'prompt_function': lambda system_prompt, user_prompt: f\"<|system|>\\n{system_prompt}\\n|<user>|\\n{user_prompt}\\n|<assistant>|\\n\\n\"},\n",
    "}\n",
    "\n",
    "def init_model(model_name, quantization_config=0):\n",
    "    if quantization_config == 0:\n",
    "        model = AutoModelForCausalLM.from_pretrained(model_name, device_map=\"cuda\", torch_dtype=torch.bfloat16)\n",
    "    elif quantization_config == 1:\n",
    "        bnb_config = BitsAndBytesConfig(\n",
    "                                    load_in_4bit=True,\n",
    "                                    bnb_4bit_use_double_quant=True,\n",
    "                                    bnb_4bit_quant_type=\"nf4\",\n",
    "                                    bnb_4bit_compute_dtype=torch.bfloat16,\n",
    "                                )\n",
    "        model = AutoModelForCausalLM.from_pretrained(model_name, quantization_config=bnb_config, device_map=\"cuda\")\n",
    "        \n",
    "    tokenizer = AutoTokenizer.from_pretrained(model_name)\n",
    "    \n",
    "    return model, tokenizer"
   ]
  },
  {
   "cell_type": "code",
   "execution_count": 6,
   "metadata": {},
   "outputs": [
    {
     "data": {
      "application/vnd.jupyter.widget-view+json": {
       "model_id": "db59dd60e0be4034a30609bfe2fbb9a6",
       "version_major": 2,
       "version_minor": 0
      },
      "text/plain": [
       "config.json:   0%|          | 0.00/596 [00:00<?, ?B/s]"
      ]
     },
     "metadata": {},
     "output_type": "display_data"
    },
    {
     "data": {
      "application/vnd.jupyter.widget-view+json": {
       "model_id": "0b9c715eb76e418abac58321ce84ed39",
       "version_major": 2,
       "version_minor": 0
      },
      "text/plain": [
       "model.safetensors.index.json:   0%|          | 0.00/25.1k [00:00<?, ?B/s]"
      ]
     },
     "metadata": {},
     "output_type": "display_data"
    },
    {
     "data": {
      "application/vnd.jupyter.widget-view+json": {
       "model_id": "b086849697104f879131d79bb1ff5fc8",
       "version_major": 2,
       "version_minor": 0
      },
      "text/plain": [
       "Downloading shards:   0%|          | 0/3 [00:00<?, ?it/s]"
      ]
     },
     "metadata": {},
     "output_type": "display_data"
    },
    {
     "data": {
      "application/vnd.jupyter.widget-view+json": {
       "model_id": "153ed0ae4bd143ee9071e4755b750ef2",
       "version_major": 2,
       "version_minor": 0
      },
      "text/plain": [
       "model-00001-of-00003.safetensors:   0%|          | 0.00/4.94G [00:00<?, ?B/s]"
      ]
     },
     "metadata": {},
     "output_type": "display_data"
    },
    {
     "data": {
      "application/vnd.jupyter.widget-view+json": {
       "model_id": "03087555f5de495692ae11e920664fbc",
       "version_major": 2,
       "version_minor": 0
      },
      "text/plain": [
       "model-00002-of-00003.safetensors:   0%|          | 0.00/5.00G [00:00<?, ?B/s]"
      ]
     },
     "metadata": {},
     "output_type": "display_data"
    },
    {
     "data": {
      "application/vnd.jupyter.widget-view+json": {
       "model_id": "e836a838757d4f829ada27467b5352c3",
       "version_major": 2,
       "version_minor": 0
      },
      "text/plain": [
       "model-00003-of-00003.safetensors:   0%|          | 0.00/4.54G [00:00<?, ?B/s]"
      ]
     },
     "metadata": {},
     "output_type": "display_data"
    },
    {
     "data": {
      "application/vnd.jupyter.widget-view+json": {
       "model_id": "ad839ebb26384ee891d9ebad6c74a1db",
       "version_major": 2,
       "version_minor": 0
      },
      "text/plain": [
       "Loading checkpoint shards:   0%|          | 0/3 [00:00<?, ?it/s]"
      ]
     },
     "metadata": {},
     "output_type": "display_data"
    },
    {
     "data": {
      "application/vnd.jupyter.widget-view+json": {
       "model_id": "a2af353c70f84272b141e027cfb0a788",
       "version_major": 2,
       "version_minor": 0
      },
      "text/plain": [
       "generation_config.json:   0%|          | 0.00/111 [00:00<?, ?B/s]"
      ]
     },
     "metadata": {},
     "output_type": "display_data"
    },
    {
     "data": {
      "application/vnd.jupyter.widget-view+json": {
       "model_id": "0c794ba87070451c8bb634f25c1584a9",
       "version_major": 2,
       "version_minor": 0
      },
      "text/plain": [
       "tokenizer_config.json:   0%|          | 0.00/1.47k [00:00<?, ?B/s]"
      ]
     },
     "metadata": {},
     "output_type": "display_data"
    },
    {
     "data": {
      "application/vnd.jupyter.widget-view+json": {
       "model_id": "473e5bafcdee47ef94cc85963b0a9391",
       "version_major": 2,
       "version_minor": 0
      },
      "text/plain": [
       "tokenizer.model:   0%|          | 0.00/493k [00:00<?, ?B/s]"
      ]
     },
     "metadata": {},
     "output_type": "display_data"
    },
    {
     "data": {
      "application/vnd.jupyter.widget-view+json": {
       "model_id": "2a178772e1dd4b41a59e04321f29b432",
       "version_major": 2,
       "version_minor": 0
      },
      "text/plain": [
       "tokenizer.json:   0%|          | 0.00/1.80M [00:00<?, ?B/s]"
      ]
     },
     "metadata": {},
     "output_type": "display_data"
    },
    {
     "data": {
      "application/vnd.jupyter.widget-view+json": {
       "model_id": "2415526f10b74d8ba127a2dcfad0b5d3",
       "version_major": 2,
       "version_minor": 0
      },
      "text/plain": [
       "special_tokens_map.json:   0%|          | 0.00/72.0 [00:00<?, ?B/s]"
      ]
     },
     "metadata": {},
     "output_type": "display_data"
    }
   ],
   "source": [
    "# load the model\n",
    "model = None\n",
    "model, tokenizer = init_model(models[\"Mixtral-7B\"][\"model_name\"], 0)"
   ]
  },
  {
   "cell_type": "code",
   "execution_count": 11,
   "metadata": {},
   "outputs": [
    {
     "data": {
      "text/plain": [
       "(62,)"
      ]
     },
     "execution_count": 11,
     "metadata": {},
     "output_type": "execute_result"
    }
   ],
   "source": [
    "valid_texts = np.array([])\n",
    "\n",
    "for item in anto_ds[\"full_text\"]:\n",
    "    if any(word in item for word in [\"antinomi\", \"antonim\"]) and len(item) < 31000:\n",
    "        valid_texts = np.append(valid_texts, item)\n",
    "        \n",
    "valid_texts.shape"
   ]
  },
  {
   "cell_type": "code",
   "execution_count": 12,
   "metadata": {},
   "outputs": [
    {
     "name": "stderr",
     "output_type": "stream",
     "text": [
      "The attention mask and the pad token id were not set. As a consequence, you may observe unexpected behavior. Please pass your input's `attention_mask` to obtain reliable results.\n",
      "Setting `pad_token_id` to `eos_token_id`:2 for open-end generation.\n",
      "The attention mask and the pad token id were not set. As a consequence, you may observe unexpected behavior. Please pass your input's `attention_mask` to obtain reliable results.\n",
      "Setting `pad_token_id` to `eos_token_id`:2 for open-end generation.\n",
      "The attention mask and the pad token id were not set. As a consequence, you may observe unexpected behavior. Please pass your input's `attention_mask` to obtain reliable results.\n",
      "Setting `pad_token_id` to `eos_token_id`:2 for open-end generation.\n",
      "The attention mask and the pad token id were not set. As a consequence, you may observe unexpected behavior. Please pass your input's `attention_mask` to obtain reliable results.\n",
      "Setting `pad_token_id` to `eos_token_id`:2 for open-end generation.\n"
     ]
    },
    {
     "ename": "ValueError",
     "evalue": "Input length of input_ids is 7906, but `max_length` is set to 7500. This can lead to unexpected behavior. You should consider increasing `max_length` or, better yet, setting `max_new_tokens`.",
     "output_type": "error",
     "traceback": [
      "\u001b[0;31m---------------------------------------------------------------------------\u001b[0m",
      "\u001b[0;31mValueError\u001b[0m                                Traceback (most recent call last)",
      "Cell \u001b[0;32mIn[12], line 9\u001b[0m\n\u001b[1;32m      5\u001b[0m     \u001b[38;5;28;01mbreak\u001b[39;00m\n\u001b[1;32m      6\u001b[0m inputs \u001b[38;5;241m=\u001b[39m tokenizer\u001b[38;5;241m.\u001b[39mencode(models[\u001b[38;5;124m\"\u001b[39m\u001b[38;5;124mMeta-Llama\u001b[39m\u001b[38;5;124m\"\u001b[39m][\u001b[38;5;124m\"\u001b[39m\u001b[38;5;124mprompt_function\u001b[39m\u001b[38;5;124m\"\u001b[39m](\u001b[38;5;124m\"\u001b[39m\u001b[38;5;124mYou are a legal expert. I am going to give you a text, extract all pairs of antinomian laws. Answer directly without any preamble or comment. Answer always using a correct Italian. Answer in few sentences.\u001b[39m\u001b[38;5;124m\"\u001b[39m, text),\n\u001b[1;32m      7\u001b[0m                             return_tensors\u001b[38;5;241m=\u001b[39m\u001b[38;5;124m\"\u001b[39m\u001b[38;5;124mpt\u001b[39m\u001b[38;5;124m\"\u001b[39m,\n\u001b[1;32m      8\u001b[0m                             truncation\u001b[38;5;241m=\u001b[39m\u001b[38;5;28;01mTrue\u001b[39;00m)\u001b[38;5;241m.\u001b[39mto(\u001b[38;5;124m\"\u001b[39m\u001b[38;5;124mcuda\u001b[39m\u001b[38;5;124m\"\u001b[39m)\n\u001b[0;32m----> 9\u001b[0m outputs \u001b[38;5;241m=\u001b[39m \u001b[43mmodel\u001b[49m\u001b[38;5;241;43m.\u001b[39;49m\u001b[43mgenerate\u001b[49m\u001b[43m(\u001b[49m\u001b[43minputs\u001b[49m\u001b[43m,\u001b[49m\u001b[43m \u001b[49m\u001b[43mmax_length\u001b[49m\u001b[38;5;241;43m=\u001b[39;49m\u001b[38;5;241;43m7500\u001b[39;49m\u001b[43m,\u001b[49m\u001b[43m \u001b[49m\u001b[43mnum_return_sequences\u001b[49m\u001b[38;5;241;43m=\u001b[39;49m\u001b[38;5;241;43m1\u001b[39;49m\u001b[43m)\u001b[49m\n\u001b[1;32m     10\u001b[0m output \u001b[38;5;241m=\u001b[39m tokenizer\u001b[38;5;241m.\u001b[39mdecode(outputs[\u001b[38;5;241m0\u001b[39m], skip_special_tokens\u001b[38;5;241m=\u001b[39m\u001b[38;5;28;01mTrue\u001b[39;00m)\n\u001b[1;32m     11\u001b[0m results\u001b[38;5;241m.\u001b[39mappend([text, output])\n",
      "File \u001b[0;32m~/.conda/envs/thesis/lib/python3.12/site-packages/torch/utils/_contextlib.py:115\u001b[0m, in \u001b[0;36mcontext_decorator.<locals>.decorate_context\u001b[0;34m(*args, **kwargs)\u001b[0m\n\u001b[1;32m    112\u001b[0m \u001b[38;5;129m@functools\u001b[39m\u001b[38;5;241m.\u001b[39mwraps(func)\n\u001b[1;32m    113\u001b[0m \u001b[38;5;28;01mdef\u001b[39;00m \u001b[38;5;21mdecorate_context\u001b[39m(\u001b[38;5;241m*\u001b[39margs, \u001b[38;5;241m*\u001b[39m\u001b[38;5;241m*\u001b[39mkwargs):\n\u001b[1;32m    114\u001b[0m     \u001b[38;5;28;01mwith\u001b[39;00m ctx_factory():\n\u001b[0;32m--> 115\u001b[0m         \u001b[38;5;28;01mreturn\u001b[39;00m \u001b[43mfunc\u001b[49m\u001b[43m(\u001b[49m\u001b[38;5;241;43m*\u001b[39;49m\u001b[43margs\u001b[49m\u001b[43m,\u001b[49m\u001b[43m \u001b[49m\u001b[38;5;241;43m*\u001b[39;49m\u001b[38;5;241;43m*\u001b[39;49m\u001b[43mkwargs\u001b[49m\u001b[43m)\u001b[49m\n",
      "File \u001b[0;32m~/.conda/envs/thesis/lib/python3.12/site-packages/transformers/generation/utils.py:1626\u001b[0m, in \u001b[0;36mGenerationMixin.generate\u001b[0;34m(self, inputs, generation_config, logits_processor, stopping_criteria, prefix_allowed_tokens_fn, synced_gpus, assistant_model, streamer, negative_prompt_ids, negative_prompt_attention_mask, **kwargs)\u001b[0m\n\u001b[1;32m   1620\u001b[0m             \u001b[38;5;28;01mraise\u001b[39;00m \u001b[38;5;167;01mValueError\u001b[39;00m(\n\u001b[1;32m   1621\u001b[0m                 \u001b[38;5;124m\"\u001b[39m\u001b[38;5;124mThis model does not support `cache_implementation=\u001b[39m\u001b[38;5;124m'\u001b[39m\u001b[38;5;124mstatic\u001b[39m\u001b[38;5;124m'\u001b[39m\u001b[38;5;124m`. Please check the following \u001b[39m\u001b[38;5;124m\"\u001b[39m\n\u001b[1;32m   1622\u001b[0m                 \u001b[38;5;124m\"\u001b[39m\u001b[38;5;124missue: https://github.com/huggingface/transformers/issues/28981\u001b[39m\u001b[38;5;124m\"\u001b[39m\n\u001b[1;32m   1623\u001b[0m             )\n\u001b[1;32m   1624\u001b[0m         model_kwargs[\u001b[38;5;124m\"\u001b[39m\u001b[38;5;124mpast_key_values\u001b[39m\u001b[38;5;124m\"\u001b[39m] \u001b[38;5;241m=\u001b[39m \u001b[38;5;28mself\u001b[39m\u001b[38;5;241m.\u001b[39m_get_static_cache(batch_size, generation_config\u001b[38;5;241m.\u001b[39mmax_length)\n\u001b[0;32m-> 1626\u001b[0m \u001b[38;5;28;43mself\u001b[39;49m\u001b[38;5;241;43m.\u001b[39;49m\u001b[43m_validate_generated_length\u001b[49m\u001b[43m(\u001b[49m\u001b[43mgeneration_config\u001b[49m\u001b[43m,\u001b[49m\u001b[43m \u001b[49m\u001b[43minput_ids_length\u001b[49m\u001b[43m,\u001b[49m\u001b[43m \u001b[49m\u001b[43mhas_default_max_length\u001b[49m\u001b[43m)\u001b[49m\n\u001b[1;32m   1628\u001b[0m \u001b[38;5;66;03m# 7. determine generation mode\u001b[39;00m\n\u001b[1;32m   1629\u001b[0m generation_mode \u001b[38;5;241m=\u001b[39m generation_config\u001b[38;5;241m.\u001b[39mget_generation_mode(assistant_model)\n",
      "File \u001b[0;32m~/.conda/envs/thesis/lib/python3.12/site-packages/transformers/generation/utils.py:1176\u001b[0m, in \u001b[0;36mGenerationMixin._validate_generated_length\u001b[0;34m(self, generation_config, input_ids_length, has_default_max_length)\u001b[0m\n\u001b[1;32m   1174\u001b[0m \u001b[38;5;28;01mif\u001b[39;00m input_ids_length \u001b[38;5;241m>\u001b[39m\u001b[38;5;241m=\u001b[39m generation_config\u001b[38;5;241m.\u001b[39mmax_length:\n\u001b[1;32m   1175\u001b[0m     input_ids_string \u001b[38;5;241m=\u001b[39m \u001b[38;5;124m\"\u001b[39m\u001b[38;5;124mdecoder_input_ids\u001b[39m\u001b[38;5;124m\"\u001b[39m \u001b[38;5;28;01mif\u001b[39;00m \u001b[38;5;28mself\u001b[39m\u001b[38;5;241m.\u001b[39mconfig\u001b[38;5;241m.\u001b[39mis_encoder_decoder \u001b[38;5;28;01melse\u001b[39;00m \u001b[38;5;124m\"\u001b[39m\u001b[38;5;124minput_ids\u001b[39m\u001b[38;5;124m\"\u001b[39m\n\u001b[0;32m-> 1176\u001b[0m     \u001b[38;5;28;01mraise\u001b[39;00m \u001b[38;5;167;01mValueError\u001b[39;00m(\n\u001b[1;32m   1177\u001b[0m         \u001b[38;5;124mf\u001b[39m\u001b[38;5;124m\"\u001b[39m\u001b[38;5;124mInput length of \u001b[39m\u001b[38;5;132;01m{\u001b[39;00minput_ids_string\u001b[38;5;132;01m}\u001b[39;00m\u001b[38;5;124m is \u001b[39m\u001b[38;5;132;01m{\u001b[39;00minput_ids_length\u001b[38;5;132;01m}\u001b[39;00m\u001b[38;5;124m, but `max_length` is set to\u001b[39m\u001b[38;5;124m\"\u001b[39m\n\u001b[1;32m   1178\u001b[0m         \u001b[38;5;124mf\u001b[39m\u001b[38;5;124m\"\u001b[39m\u001b[38;5;124m \u001b[39m\u001b[38;5;132;01m{\u001b[39;00mgeneration_config\u001b[38;5;241m.\u001b[39mmax_length\u001b[38;5;132;01m}\u001b[39;00m\u001b[38;5;124m. This can lead to unexpected behavior. You should consider\u001b[39m\u001b[38;5;124m\"\u001b[39m\n\u001b[1;32m   1179\u001b[0m         \u001b[38;5;124m\"\u001b[39m\u001b[38;5;124m increasing `max_length` or, better yet, setting `max_new_tokens`.\u001b[39m\u001b[38;5;124m\"\u001b[39m\n\u001b[1;32m   1180\u001b[0m     )\n\u001b[1;32m   1182\u001b[0m \u001b[38;5;66;03m# 2. Min length warnings due to unfeasible parameter combinations\u001b[39;00m\n\u001b[1;32m   1183\u001b[0m min_length_error_suffix \u001b[38;5;241m=\u001b[39m (\n\u001b[1;32m   1184\u001b[0m     \u001b[38;5;124m\"\u001b[39m\u001b[38;5;124m Generation will stop at the defined maximum length. You should decrease the minimum length and/or \u001b[39m\u001b[38;5;124m\"\u001b[39m\n\u001b[1;32m   1185\u001b[0m     \u001b[38;5;124m\"\u001b[39m\u001b[38;5;124mincrease the maximum length.\u001b[39m\u001b[38;5;124m\"\u001b[39m\n\u001b[1;32m   1186\u001b[0m )\n",
      "\u001b[0;31mValueError\u001b[0m: Input length of input_ids is 7906, but `max_length` is set to 7500. This can lead to unexpected behavior. You should consider increasing `max_length` or, better yet, setting `max_new_tokens`."
     ]
    }
   ],
   "source": [
    "results = []\n",
    "\n",
    "for i, text in enumerate(valid_texts):\n",
    "    if i > 3:\n",
    "        break\n",
    "    inputs = tokenizer.encode(models[\"Meta-Llama\"][\"prompt_function\"](\"You are a legal expert. I am going to give you a text, extract all pairs of antinomian laws. Answer directly without any preamble or comment. Answer always using a correct Italian. Answer in few sentences.\", text),\n",
    "                                return_tensors=\"pt\",\n",
    "                                truncation=True).to(\"cuda\")\n",
    "    outputs = model.generate(inputs, max_length=31000, num_return_sequences=1)\n",
    "    output = tokenizer.decode(outputs[0], skip_special_tokens=True)\n",
    "    results.append([text, output])"
   ]
  },
  {
   "cell_type": "code",
   "execution_count": null,
   "metadata": {},
   "outputs": [
    {
     "name": "stdout",
     "output_type": "stream",
     "text": [
      "Input: Nel giudizio di legittimità costituzionale degli artt. 19, comma 2, 22, 23 e 27, commi 1 e 3, della legge Regione Sicilia approvata il 28 luglio 1997, recante \"Misure di politiche attive del lavoro in Sicilia. Modifiche alla legge regionale 21 dicembre 1995, n. 85. Norme in materia di Attività produttive e di Sanità. Disposizioni varie\" promosso con ricorso del Commissario dello Stato per la Regione Siciliana, notificato il 5 agosto 1997, depositato in Cancelleria il 13 successivo ed iscritto al n. 52 del registro ricorsi 1997; Udito nell'udienza pubblica del 9 febbraio 1999 il giudice relatore Piero Alberto Capotosti. RITENUTO IN FATTO. 1. - Con ricorso notificato il 5 agosto 1997, e depositato il successivo 13 agosto, il Commissario dello Stato per la Regione Siciliana ha impugnato gli artt. 19, comma 2, 22, 23 e 27, commi 1 e 3, della legge approvata dall'Assemblea regionale siciliana il 28 luglio 1997, recante \"Misure di politiche attive del lavoro in Sicilia. Modifiche alla legge regionale 21 dicembre 1995, n. 85. Norme in materia di Attività produttive e di Sanità. Disposizioni varie\" La prima delle disposizioni impugnate, ad avviso del ricorrente, viola l'art. 12 dello statuto per la Regione Siciliana, poiché attribuisce all'Assessore regionale per il lavoro il compito di stabilire la disciplina di attuazione della legge, che invece, ai sensi dell'art. 12, dovrebbe essere deliberata con proprio regolamento dal Governo regionale. Il successivo art. 22 contrasterebbe poi con gli articoli 14 e 17 dello statuto speciale, nonché con l'art. 97 della Costituzione, in quanto, stabilendo, al primo comma, che gli uffici giudiziari e delle prefetture dell'isola possono \"presentare progetti di utilità collettiva di cui agli articoli 1 e 2 della legge regionale 21 dicembre 1995, n. 85\" dispone in materia di organizzazione degli uffici statali. Il vizio di costituzionalità riguarderebbe anche il secondo comma, che specifica il contenuto dei progetti di cui le amministrazioni statali indicate potrebbero avvalersi, nonché il terzo comma, il quale, in contrasto con l'art. 97 della Costituzione, destina risorse regionali all'espletamento di funzioni statali. L'art. 23 della legge regionale in esame, prevedendo che \"i progetti di lavori socialmente utili possono essere rivolti a supporto delle attività istituzionali degli Enti attuatori\" contrasta in primo luogo, secondo il Commissario dello Stato, con l'art. 17, lett. f), dello statuto speciale. La disposizione, infatti, violerebbe il principio fondamentale della legislazione statale stabilito, in materia, tanto dall'art. 14 del decreto-legge 16 maggio 1994, n. 299 (Disposizioni urgenti in materia di occupazione e di fiscalizzazione degli oneri sociali), quanto dall'art. 22 della legge 24 giugno 1997, n. 196 (Norme in materia di promozione dell'occupazione), secondo cui il ricorso ai lavori socialmente utili deve essere finalizzato soltanto al \"raggiungimento di obiettivi di carattere straordinario degli enti attuatori per ben individuati ambiti di intervento\" con esclusione invece di obbiettivi connessi ai fini istituzionali degli enti predetti. Per gli stessi motivi, inoltre, l'istituto previsto dalla disposizione in oggetto, in quanto del tutto \"antinomico nei confronti del processo. di riforma della burocrazia\" si porrebbe in contrasto non solo con l'art. 2 della legge 23 ottobre 1992, n. 421 (Delega al Governo per la razionalizzazione e la revisione delle discipline in materia di sanità, di pubblico impiego, di previdenza e di finanza territoriale), ma anche con gli artt. 3, 51 e 97 della Costituzione, in quanto consentirebbe l'utilizzazione nella pubblica amministrazione di personale di cui non si siano preventivamente valutati i prescritti requisiti attitudinali. Secondo il ricorrente, infine, il primo ed il terzo comma dell'art. 27 della legge regionale in oggetto contrastano con gli articoli 3, 51 e 97 della Costituzione, nonché con l'art. 14, lett. f), dello statuto speciale, poiché prevedono lo svolgimento di \"funzioni istituzionali degli uffici centrali e periferici dell'Assessorato regionale del lavoro nonché dell'Agenzia regionale per l'impiego da parte di strutture private e del relativo personale mediante un sistema di convenzioni\" e quindi consentono alla pubblica amministrazione regionale di avvalersi \"di personale di cui preventivamente non sia stata valutata con criteri di imparzialità, l'idoneità e la professionalità\" Ad avviso del Commissario dello Stato le due disposizioni violerebbero inoltre sia l'art. 81 della Costituzione, per l'omessa indicazione delle risorse finanziarie con cui far fronte all'impegno derivante dalle convenzioni, sia l'art. 136, per la sostanziale elusione della sentenza della Corte costituzionale 20 luglio 1995, n. 407, avente ad oggetto una disciplina regionale di segno analogo. 2. - La Regione Siciliana non si è costituita in giudizio. 3. - Successivamente all'instaurazione del giudizio innanzi alla Corte costituzionale, il Presidente della Regione Siciliana ha promulgato la legge impugnata come legge regionale 7 agosto 1997, n. 30 - pubblicata nella Gazzetta Ufficiale della Regione Siciliana n. 43 dell'11 agosto 1997 - omettendone gli articoli 19, comma 2, 22, 23 e 27, commi 1 e 3, avverso i quali il Commissario dello Stato aveva proposto ricorso. In una memoria presentata in prossimità dell'udienza l'Avvocatura generale dello Stato, in considerazione della predetta promulgazione parziale, ha chiesto che sia dichiarata cessata la materia del contendere. CONSIDERATO IN DIRITTO. Il Commissario dello Stato per la Regione Siciliana ha sollevato questione di legittimità costituzionale degli artt. 19, comma 2, 22, 23 e 27, commi 1 e 3, della legge approvata dall'Assemblea regionale siciliana il 28 luglio 1997, recante \"Misure di politiche attive del lavoro in Sicilia. Modifiche alla legge regionale 21 dicembre 1995, n. 85. Norme in materia di Attività produttive e di Sanità. Disposizioni varie\" per violazione degli artt. 12, 14 e 17, lettera f), dello statuto speciale, e degli articoli 3, 51, 81, quarto comma, 97 e 136 della Costituzione. Va preliminarmente rilevato che dopo l'instaurazione del giudizio, come si è accennato nella premessa in fatto, la deliberazione legislativa approvata dall'Assemblea Regionale il 28 luglio 1997 è stata promulgata come legge 7 agosto 1997, n. 30, con omissione delle disposizioni impugnate dal Commissario dello Stato. Il potere di promulgazione del Presidente della Regione, secondo la consolidata giurisprudenza di questa Corte, si esercita necessariamente in modo unitario ed istantaneo rispetto al testo legislativo e, quindi, essendosi ormai esaurito rispetto alla legge in esame, è preclusa la possibilità di una successiva, autonoma promulgazione delle disposizioni impugnate o di parti di esse (da ultimo, sentenze n. 339 e 216 del 1998). Pertanto, poiché le disposizioni denunziate non hanno prodotto, in difetto di promulgazione, alcun effetto nell'ordinamento, e non sono in grado di produrne, il presente giudizio risulta privo di oggetto e ricorrono i presupposti per dichiarare cessata la materia del contendere, come richiesto anche dall'Avvocatura generale dello Stato. La Corte costituzionale Dichiara cessata la materia del contendere in ordine al ricorso di cui in epigrafe. Così deciso in Roma, nella sede della Corte costituzionale, Palazzo della Consulta, il 12 marzo 1999.\n",
      "\n",
      "Output: <|begin_of_text|><|start_header_id|>system<|end_header_id|>You are a legal expert. I am going to give you a text, extract all pairs of antinomian laws. Answer directly without any preamble or comment. Answer always using a correct Italian. Answer in few sentences.<|eot_id|><|start_header_id|>user<|end_header_id|>Nel giudizio di legittimità costituzionale degli artt. 19, comma 2, 22, 23 e 27, commi 1 e 3, della legge Regione Sicilia approvata il 28 luglio 1997, recante \"Misure di politiche attive del lavoro in Sicilia. Modifiche alla legge regionale 21 dicembre 1995, n. 85. Norme in materia di Attività produttive e di Sanità. Disposizioni varie\" promosso con ricorso del Commissario dello Stato per la Regione Siciliana, notificato il 5 agosto 1997, depositato in Cancelleria il 13 successivo ed iscritto al n. 52 del registro ricorsi 1997; Udito nell'udienza pubblica del 9 febbraio 1999 il giudice relatore Piero Alberto Capotosti. RITENUTO IN FATTO. 1. - Con ricorso notificato il 5 agosto 1997, e depositato il successivo 13 agosto, il Commissario dello Stato per la Regione Siciliana ha impugnato gli artt. 19, comma 2, 22, 23 e 27, commi 1 e 3, della legge approvata dall'Assemblea regionale siciliana il 28 luglio 1997, recante \"Misure di politiche attive del lavoro in Sicilia. Modifiche alla legge regionale 21 dicembre 1995, n. 85. Norme in materia di Attività produttive e di Sanità. Disposizioni varie\" La prima delle disposizioni impugnate, ad avviso del ricorrente, viola l'art. 12 dello statuto per la Regione Siciliana, poiché attribuisce all'Assessore regionale per il lavoro il compito di stabilire la disciplina di attuazione della legge, che invece, ai sensi dell'art. 12, dovrebbe essere deliberata con proprio regolamento dal Governo regionale. Il successivo art. 22 contrasterebbe poi con gli articoli 14 e 17 dello statuto speciale, nonché con l'art. 97 della Costituzione, in quanto, stabilendo, al primo comma, che gli uffici giudiziari e delle prefetture dell'isola possono \"presentare progetti di utilità collettiva di cui agli articoli 1 e 2 della legge regionale 21 dicembre 1995, n. 85\" dispone in materia di organizzazione degli uffici statali. Il vizio di costituzionalità riguarderebbe anche il secondo comma, che specifica il contenuto dei progetti di cui le amministrazioni statali indicate potrebbero avvalersi, nonché il terzo comma, il quale, in contrasto con l'art. 97 della Costituzione, destina risorse regionali all'espletamento di funzioni statali. L'art. 23 della legge regionale in esame, prevedendo che \"i progetti di lavori socialmente utili possono essere rivolti a supporto delle attività istituzionali degli Enti attuatori\" contrasta in primo luogo, secondo il Commissario dello Stato, con l'art. 17, lett. f), dello statuto speciale. La disposizione, infatti, violerebbe il principio fondamentale della legislazione statale stabilito, in materia, tanto dall'art. 14 del decreto-legge 16 maggio 1994, n. 299 (Disposizioni urgenti in materia di occupazione e di fiscalizzazione degli oneri sociali), quanto dall'art. 22 della legge 24 giugno 1997, n. 196 (Norme in materia di promozione dell'occupazione), secondo cui il ricorso ai lavori socialmente utili deve essere finalizzato soltanto al \"raggiungimento di obiettivi di carattere straordinario degli enti attuatori per ben individuati ambiti di intervento\" con esclusione invece di obbiettivi connessi ai fini istituzionali degli enti predetti. Per gli stessi motivi, inoltre, l'istituto previsto dalla disposizione in oggetto, in quanto del tutto \"antinomico nei confronti del processo. di riforma della burocrazia\" si porrebbe in contrasto non solo con l'art. 2 della legge 23 ottobre 1992, n. 421 (Delega al Governo per la razionalizzazione e la revisione delle discipline in materia di sanità, di pubblico impiego, di previdenza e di finanza territoriale), ma anche con gli artt. 3, 51 e 97 della Costituzione, in quanto consentirebbe l'utilizzazione nella pubblica amministrazione di personale di cui non si siano preventivamente valutati i prescritti requisiti attitudinali. Secondo il ricorrente, infine, il primo ed il terzo comma dell'art. 27 della legge regionale in oggetto contrastano con gli articoli 3, 51 e 97 della Costituzione, nonché con l'art. 14, lett. f), dello statuto speciale, poiché prevedono lo svolgimento di \"funzioni istituzionali degli uffici centrali e periferici dell'Assessorato regionale del lavoro nonché dell'Agenzia regionale per l'impiego da parte di strutture private e del relativo personale mediante un sistema di convenzioni\" e quindi consentono alla pubblica amministrazione regionale di avvalersi \"di personale di cui preventivamente non sia stata valutata con criteri di imparzialità, l'idoneità e la professionalità\" Ad avviso del Commissario dello Stato le due disposizioni violerebbero inoltre sia l'art. 81 della Costituzione, per l'omessa indicazione delle risorse finanziarie con cui far fronte all'impegno derivante dalle convenzioni, sia l'art. 136, per la sostanziale elusione della sentenza della Corte costituzionale 20 luglio 1995, n. 407, avente ad oggetto una disciplina regionale di segno analogo. 2. - La Regione Siciliana non si è costituita in giudizio. 3. - Successivamente all'instaurazione del giudizio innanzi alla Corte costituzionale, il Presidente della Regione Siciliana ha promulgato la legge impugnata come legge regionale 7 agosto 1997, n. 30 - pubblicata nella Gazzetta Ufficiale della Regione Siciliana n. 43 dell'11 agosto 1997 - omettendone gli articoli 19, comma 2, 22, 23 e 27, commi 1 e 3, avverso i quali il Commissario dello Stato aveva proposto ricorso. In una memoria presentata in prossimità dell'udienza l'Avvocatura generale dello Stato, in considerazione della predetta promulgazione parziale, ha chiesto che sia dichiarata cessata la materia del contendere. CONSIDERATO IN DIRITTO. Il Commissario dello Stato per la Regione Siciliana ha sollevato questione di legittimità costituzionale degli artt. 19, comma 2, 22, 23 e 27, commi 1 e 3, della legge approvata dall'Assemblea regionale siciliana il 28 luglio 1997, recante \"Misure di politiche attive del lavoro in Sicilia. Modifiche alla legge regionale 21 dicembre 1995, n. 85. Norme in materia di Attività produttive e di Sanità. Disposizioni varie\" per violazione degli artt. 12, 14 e 17, lettera f), dello statuto speciale, e degli articoli 3, 51, 81, quarto comma, 97 e 136 della Costituzione. Va preliminarmente rilevato che dopo l'instaurazione del giudizio, come si è accennato nella premessa in fatto, la deliberazione legislativa approvata dall'Assemblea Regionale il 28 luglio 1997 è stata promulgata come legge 7 agosto 1997, n. 30, con omissione delle disposizioni impugnate dal Commissario dello Stato. Il potere di promulgazione del Presidente della Regione, secondo la consolidata giurisprudenza di questa Corte, si esercita necessariamente in modo unitario ed istantaneo rispetto al testo legislativo e, quindi, essendosi ormai esaurito rispetto alla legge in esame, è preclusa la possibilità di una successiva, autonoma promulgazione delle disposizioni impugnate o di parti di esse (da ultimo, sentenze n. 339 e 216 del 1998). Pertanto, poiché le disposizioni denunziate non hanno prodotto, in difetto di promulgazione, alcun effetto nell'ordinamento, e non sono in grado di produrne, il presente giudizio risulta privo di oggetto e ricorrono i presupposti per dichiarare cessata la materia del contendere, come richiesto anche dall'Avvocatura generale dello Stato. La Corte costituzionale Dichiara cessata la materia del contendere in ordine al ricorso di cui in epigrafe. Così deciso in Roma, nella sede della Corte costituzionale, Palazzo della Consulta, il 12 marzo 1999.<|eot_id|><|start_header_id|>assistant<|end_header_id|>The text is a judicial decision regarding a constitutional challenge to several articles of a regional law in Sicily. The Commissar of the State for Sicily brought the challenge, alleging that the articles violate the Sicilian Statute and the Italian Constitution. The articles in question concern the role of the Regional Labor Assessor in implementing the law, the organization of state offices, and the use of private structures and personnel in the implementation of regional labor policies. The Constitutional Court found that the articles were not promulgated and therefore had no effect, and thus the case was dismissed.\n",
      "\n",
      "Antinomian laws:\n",
      "\n",
      "1. Article 19, paragraph 2, and Article 22 of the regional law, in conflict with Article 12 of the Sicilian Statute, as they assign the Regional Labor Assessor the power to establish the implementation regulations, which should be the responsibility of the Regional Government according to the Sicilian Statute.\n",
      "2. Article 23 of the regional law, in conflict with Article 17, letter f), of the Sicilian Statute, as it allows projects for socially useful works to be used to support institutional activities of entities, while the Sicilian Statute limits the use of such works to extraordinary objectives for the entities.\n",
      "3. Article 27, paragraphs 1 and 3, of the regional law, in conflict with Articles 3, 51, and 97 of the Italian Constitution, as they allow the regional public administration to use personnel from private structures without prior evaluation of their qualifications.\n",
      "\n",
      "These articles are in conflict with each other and with the provisions of the Sicilian Statute and the Italian Constitution.\n",
      "\n",
      "\n"
     ]
    }
   ],
   "source": [
    "for result in results:\n",
    "    print(f\"Input: {result[0]}\\n\\nOutput: {result[1]}\\n\\n\")"
   ]
  },
  {
   "cell_type": "code",
   "execution_count": null,
   "metadata": {},
   "outputs": [],
   "source": []
  }
 ],
 "metadata": {
  "kernelspec": {
   "display_name": "thesis",
   "language": "python",
   "name": "thesis"
  },
  "language_info": {
   "codemirror_mode": {
    "name": "ipython",
    "version": 3
   },
   "file_extension": ".py",
   "mimetype": "text/x-python",
   "name": "python",
   "nbconvert_exporter": "python",
   "pygments_lexer": "ipython3",
   "version": "3.12.3"
  }
 },
 "nbformat": 4,
 "nbformat_minor": 2
}
