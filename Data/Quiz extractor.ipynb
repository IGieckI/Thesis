{
 "cells": [
  {
   "cell_type": "markdown",
   "metadata": {},
   "source": [
    "## Extraction of quiz from Formazione Giuridica test quiz"
   ]
  },
  {
   "cell_type": "code",
   "execution_count": null,
   "metadata": {},
   "outputs": [],
   "source": []
  }
 ],
 "metadata": {
  "kernelspec": {
   "display_name": "thesis11",
   "language": "python",
   "name": "thesis11"
  }
 },
 "nbformat": 4,
 "nbformat_minor": 2
}
