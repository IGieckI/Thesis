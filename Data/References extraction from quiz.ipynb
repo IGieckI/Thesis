{
 "cells": [
  {
   "cell_type": "code",
   "execution_count": 18,
   "metadata": {},
   "outputs": [
    {
     "name": "stdout",
     "output_type": "stream",
     "text": [
      "329\n"
     ]
    }
   ],
   "source": [
    "import pandas as pd\n",
    "import json\n",
    "import os\n",
    "import re\n",
    "\n",
    "default_path = os.getcwd() + \"/work/documents/\"\n",
    "QUESTIONS_JSON_FILE = default_path + \"domande.json\"\n",
    "\n",
    "with open(QUESTIONS_JSON_FILE, 'r') as f:\n",
    "    quizzes = json.load(f)\n",
    "\n",
    "\n",
    "# Initialize an empty list to store the rows\n",
    "rows = []\n",
    "c = 0\n",
    "for idx, quiz in enumerate(quizzes):\n",
    "    # Check if question contains any number\n",
    "    match = re.search(r'art\\.\\s+\\d+', quiz['question'])\n",
    "\n",
    "    if match:\n",
    "        # Extract number and assign it to article\n",
    "        article = match.group(0)\n",
    "        comma = None # It's not clear how to extract comma from any number, so set it to None\n",
    "    else:\n",
    "        # No number found, set article and comma to None\n",
    "        article, comma = None, None\n",
    "\n",
    "    if article is not None:\n",
    "        c+=1 \n",
    "    for i, ans_dict in enumerate(quiz[\"answers\"]):\n",
    "        if ans_dict['right']:\n",
    "            rows.append({\n",
    "                \"Article\": article,\n",
    "                \"Comma\": comma,\n",
    "                \"Quiz Text\": ans_dict['answer'],\n",
    "                \"Quiz ID\": idx+1,\n",
    "                \"Question ID\": i+1\n",
    "            })\n",
    "\n",
    "# Create dataframe\n",
    "df = pd.DataFrame(rows)\n",
    "\n",
    "df.head()\n",
    "print(c)"
   ]
  }
 ],
 "metadata": {
  "kernelspec": {
   "display_name": "thesis11",
   "language": "python",
   "name": "thesis11"
  },
  "language_info": {
   "codemirror_mode": {
    "name": "ipython",
    "version": 3
   },
   "file_extension": ".py",
   "mimetype": "text/x-python",
   "name": "python",
   "nbconvert_exporter": "python",
   "pygments_lexer": "ipython3",
   "version": "3.11.9"
  }
 },
 "nbformat": 4,
 "nbformat_minor": 2
}
