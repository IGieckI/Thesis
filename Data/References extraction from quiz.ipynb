{
 "cells": [
  {
   "cell_type": "code",
<<<<<<< HEAD
   "execution_count": 23,
=======
   "execution_count": 18,
>>>>>>> f4ac3d85c0c94df75a3e24670e946997bff94fca
   "metadata": {},
   "outputs": [
    {
     "name": "stdout",
     "output_type": "stream",
     "text": [
<<<<<<< HEAD
      "1218\n",
      "     Article                                          Quiz Text  Quiz ID  \\\n",
      "0        240  dei beni che costituiscono il profitto del rea...        1   \n",
      "1        266  fa a militari l'apologia di fatti contrari al ...        2   \n",
      "2         50  non inferiore a euro 50 né superiore a euro 50...        3   \n",
      "3          7  Delitti commessi da pubblici ufficiali a servi...        4   \n",
      "4         19  la decadenza o la sospensione dall'esercizio d...        5   \n",
      "...      ...                                                ...      ...   \n",
      "1745    None  in ogni stato e grado del procedimento, esclus...     1736   \n",
      "1746    None  in cui la consumazione del reato ha avuto iniz...     1737   \n",
      "1747       4  alla pena stabilita per ciascun reato consumat...     1738   \n",
      "1748    None                                No, è incompatibile     1739   \n",
      "1749    None                             l'evidenza della prova     1740   \n",
      "\n",
      "      Question ID  \n",
      "0               1  \n",
      "1               3  \n",
      "2               1  \n",
      "3               3  \n",
      "4               1  \n",
      "...           ...  \n",
      "1745            3  \n",
      "1746            1  \n",
      "1747            2  \n",
      "1748            2  \n",
      "1749            1  \n",
      "\n",
      "[1750 rows x 4 columns]\n"
=======
      "329\n"
>>>>>>> f4ac3d85c0c94df75a3e24670e946997bff94fca
     ]
    }
   ],
   "source": [
    "import pandas as pd\n",
    "import json\n",
    "import os\n",
    "import re\n",
    "\n",
    "default_path = os.getcwd() + \"/work/documents/\"\n",
    "QUESTIONS_JSON_FILE = default_path + \"domande.json\"\n",
    "\n",
    "with open(QUESTIONS_JSON_FILE, 'r') as f:\n",
    "    quizzes = json.load(f)\n",
    "\n",
    "\n",
    "# Initialize an empty list to store the rows\n",
    "rows = []\n",
<<<<<<< HEAD
    "countNonNone = 0\n",
    "for idx, quiz in enumerate(quizzes):\n",
    "    match_question = re.search(r'\\b\\d+\\b', quiz['question'])\n",
    "    article_question = match_question.group(0) if match_question else None\n",
    "\n",
    "    for i, ans_dict in enumerate(quiz[\"answers\"]):\n",
    "        # Check if answer contains any number, if not use the one from the question\n",
    "        match_answer = re.search(r'\\b\\d+\\b', ans_dict['answer'])\n",
    "        article_answer = match_answer.group(0) if match_answer else None\n",
    "\n",
    "        article = article_answer if article_answer else article_question\n",
    "\n",
    "        if article:\n",
    "            countNonNone += 1\n",
    "        \n",
    "        if ans_dict['right']:\n",
    "            rows.append({\n",
    "                \"Article\": article,\n",
=======
    "c = 0\n",
    "for idx, quiz in enumerate(quizzes):\n",
    "    # Check if question contains any number\n",
    "    match = re.search(r'art\\.\\s+\\d+', quiz['question'])\n",
    "\n",
    "    if match:\n",
    "        # Extract number and assign it to article\n",
    "        article = match.group(0)\n",
    "        comma = None # It's not clear how to extract comma from any number, so set it to None\n",
    "    else:\n",
    "        # No number found, set article and comma to None\n",
    "        article, comma = None, None\n",
    "\n",
    "    if article is not None:\n",
    "        c+=1 \n",
    "    for i, ans_dict in enumerate(quiz[\"answers\"]):\n",
    "        if ans_dict['right']:\n",
    "            rows.append({\n",
    "                \"Article\": article,\n",
    "                \"Comma\": comma,\n",
>>>>>>> f4ac3d85c0c94df75a3e24670e946997bff94fca
    "                \"Quiz Text\": ans_dict['answer'],\n",
    "                \"Quiz ID\": idx+1,\n",
    "                \"Question ID\": i+1\n",
    "            })\n",
    "\n",
<<<<<<< HEAD
    "df = pd.DataFrame(rows)\n",
    "print(countNonNone)\n",
    "print(df)"
=======
    "# Create dataframe\n",
    "df = pd.DataFrame(rows)\n",
    "\n",
    "df.head()\n",
    "print(c)"
>>>>>>> f4ac3d85c0c94df75a3e24670e946997bff94fca
   ]
  }
 ],
 "metadata": {
  "kernelspec": {
   "display_name": "thesis11",
   "language": "python",
   "name": "thesis11"
<<<<<<< HEAD
=======
  },
  "language_info": {
   "codemirror_mode": {
    "name": "ipython",
    "version": 3
   },
   "file_extension": ".py",
   "mimetype": "text/x-python",
   "name": "python",
   "nbconvert_exporter": "python",
   "pygments_lexer": "ipython3",
   "version": "3.11.9"
>>>>>>> f4ac3d85c0c94df75a3e24670e946997bff94fca
  }
 },
 "nbformat": 4,
 "nbformat_minor": 2
}
