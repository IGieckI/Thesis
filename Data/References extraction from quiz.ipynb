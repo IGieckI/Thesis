{
 "cells": [
  {
   "cell_type": "markdown",
   "metadata": {},
   "source": [
    "# Extraction from "
   ]
  },
  {
   "cell_type": "code",
   "execution_count": 1,
   "metadata": {},
   "outputs": [
    {
     "name": "stdout",
     "output_type": "stream",
     "text": [
      "      Law Article  Quiz id  Question id\n",
      "0    c.p.     240        1            1\n",
      "1    c.p.     266        1            2\n",
      "2    c.p.      24        1            3\n",
      "3    c.p.       7        1            4\n",
      "4    c.p.      19        1            5\n",
      "..    ...     ...      ...          ...\n",
      "102  c.p.     357        1          732\n",
      "103  c.p.     640        1          761\n",
      "104  c.p.     605        1          776\n",
      "105  c.p.       1        1          812\n",
      "106  c.p.      56        1         1030\n",
      "\n",
      "[107 rows x 4 columns]\n"
     ]
    }
   ],
   "source": [
    "import pandas as pd\n",
    "import json\n",
    "import os\n",
    "import re\n",
    "\n",
    "default_path = os.getcwd() + \"/work/documents/\"\n",
    "QUESTIONS_JSON_FILE = default_path + \"domande.json\"\n",
    "REFERENCES_CSV_FILE = default_path + \"quiz_references.csv\"\n",
    "\n",
    "with open(QUESTIONS_JSON_FILE, 'r') as f:\n",
    "    data = json.load(f)\n",
    "\n",
    "extracted_data = []\n",
    "\n",
    "# For each question/answer, extract the references to the law articles\n",
    "for i, item in enumerate(data):\n",
    "    question = item['question']\n",
    "    match = re.search('art\\. (\\d+-\\w+|\\d+) c\\.p\\.[^p]', question) # Match also c.p.p.\n",
    "    if match:\n",
    "        article = match.group(1)\n",
    "        extracted_data.append({\n",
    "            'Law': 'c.p.',\n",
    "            'Article': article,\n",
    "            # 'Comma': comma,  # No quiz with comma references\n",
    "            # 'Publication year': year,  # No quiz with year references\n",
    "            'Quiz id': 1,\n",
    "            'Question id': i + 1,\n",
    "            # 'Link': link  # No quiz with link references\n",
    "        })\n",
    "\n",
    "# Store the extracted data in a pandas DataFrame\n",
    "df = pd.DataFrame(extracted_data)\n",
    "df.to_csv(REFERENCES_CSV_FILE, index=False)\n",
    "\n",
    "print(df)"
   ]
  }
 ],
 "metadata": {
  "kernelspec": {
   "display_name": "thesis11",
   "language": "python",
   "name": "thesis11"
  },
  "language_info": {
   "codemirror_mode": {
    "name": "ipython",
    "version": 3
   },
   "file_extension": ".py",
   "mimetype": "text/x-python",
   "name": "python",
   "nbconvert_exporter": "python",
   "pygments_lexer": "ipython3",
   "version": "3.11.9"
  }
 },
 "nbformat": 4,
 "nbformat_minor": 2
}
