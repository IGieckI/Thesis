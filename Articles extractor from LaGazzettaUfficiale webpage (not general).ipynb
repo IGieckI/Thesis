{
 "cells": [
  {
   "cell_type": "code",
   "execution_count": 3,
   "metadata": {},
   "outputs": [
    {
     "name": "stdout",
     "output_type": "stream",
     "text": [
      "                                               Article  \\\n",
      "0    Approvazione del testo definitivo del Codice P...   \n",
      "1                                Vigente al: 19-6-2024   \n",
      "2                                VITTORIO EMANUELE III   \n",
      "3                                              Art. 2.   \n",
      "4                                              Art. 3.   \n",
      "..                                                 ...   \n",
      "965  Art. 732.((ARTICOLO ABROGATO DALLA L. 25 GIUGN...   \n",
      "966                                          Art. 733.   \n",
      "967  Art. 733-bis.(( (Distruzione o deterioramento ...   \n",
      "968                                          Art. 734.   \n",
      "969                                      Art. 734-bis.   \n",
      "\n",
      "                                              Law Text  \n",
      "0                                                       \n",
      "1                                                       \n",
      "2    PER GRAZIA DI DIO E PER VOLONTA' DELLA NAZIONE...  \n",
      "3    Un esemplare del  suddetto  testo  definitivo ...  \n",
      "4    La pubblicazione del predetto codice si esegui...  \n",
      "..                                                 ...  \n",
      "965                                                     \n",
      "966  (Danneggiamento  al  patrimonio  archeologico,...  \n",
      "967  protetto) ))((Chiunque,  fuori  dai  casi  con...  \n",
      "968  (Distruzione o deturpamento di bellezze natura...  \n",
      "969  (Divulgazione delle generalita' o dell'immagin...  \n",
      "\n",
      "[970 rows x 2 columns]\n"
     ]
    }
   ],
   "source": [
    "import pandas as pd\n",
    "from bs4 import BeautifulSoup\n",
    "\n",
    "input_file = os.getcwd() + \"/work/web pages to scrape/GazzettaUfficiale - Codice Penale.html\"\n",
    "\n",
    "# Read the HTML content from the file\n",
    "with open(input_file, 'r', encoding='utf-8') as file:\n",
    "    html_content = file.read()\n",
    "\n",
    "# Parse the HTML content\n",
    "soup = BeautifulSoup(html_content, 'html.parser')\n",
    "\n",
    "# Extract all PRE tags\n",
    "pre_tags = soup.find_all('pre')\n",
    "\n",
    "# Initialize lists to store articles and law texts\n",
    "articles = []\n",
    "law_texts = []\n",
    "\n",
    "# Extract the article number and law text\n",
    "for pre in pre_tags:\n",
    "    text = pre.get_text(strip=True)\n",
    "    lines = text.split('\\n')\n",
    "    article = lines[0].strip() if lines else \"Unknown Article\"\n",
    "    law_text = \"\\n\".join(lines[1:]).strip()\n",
    "    articles.append(article)\n",
    "    law_texts.append(law_text)\n",
    "\n",
    "# Create a DataFrame\n",
    "df = pd.DataFrame({\n",
    "    'Article': articles,\n",
    "    'Law Text': law_texts\n",
    "})\n",
    "\n",
    "# Display the DataFrame\n",
    "print(df)\n",
    "\n",
    "# Optionally, save the DataFrame to a CSV file\n",
    "df.to_csv('extracted_laws.csv', index=False)\n"
   ]
  }
 ],
 "metadata": {
  "kernelspec": {
   "display_name": "thesis",
   "language": "python",
   "name": "thesis"
  }
 },
 "nbformat": 4,
 "nbformat_minor": 2
}
